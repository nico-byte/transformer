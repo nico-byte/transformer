{
 "cells": [
  {
   "cell_type": "markdown",
   "metadata": {},
   "source": [
    "### Intro Project and import neccessary modules"
   ]
  },
  {
   "cell_type": "code",
   "execution_count": 1,
   "metadata": {},
   "outputs": [],
   "source": [
    "from torchinfo import summary\n",
    "import warnings\n",
    "import yaml\n",
    "import os\n",
    "import sys\n",
    "\n",
    "from src.data import IWSLT2017DataLoader, Multi30kDataLoader\n",
    "from utils.logger import get_logger\n",
    "from src.transformer import Seq2SeqTransformer\n",
    "from src.trainer import Trainer, EarlyStopper\n",
    "from utils.config import SharedConfig, DataLoaderConfig, TransformerConfig, TrainerConfig\n",
    "from src.processor import Processor\n",
    "warnings.filterwarnings(\"ignore\", category=UserWarning)\n",
    "warnings.filterwarnings(\"ignore\", category=FutureWarning)\n",
    "warnings.filterwarnings(\"ignore\", category=RuntimeWarning)"
   ]
  },
  {
   "cell_type": "markdown",
   "metadata": {},
   "source": [
    "### Section Load Dataloader"
   ]
  },
  {
   "cell_type": "code",
   "execution_count": 3,
   "metadata": {},
   "outputs": [
    {
     "name": "stderr",
     "output_type": "stream",
     "text": [
      "2024-06-14 19:49:11,932 | DataLoader | INFO : Datasets have benn loaded.\n"
     ]
    },
    {
     "name": "stdout",
     "output_type": "stream",
     "text": [
      "\n",
      "\n"
     ]
    },
    {
     "name": "stderr",
     "output_type": "stream",
     "text": [
      "2024-06-14 19:51:35,887 | DataLoader | INFO : Dataloaders have been built.\n"
     ]
    },
    {
     "name": "stdout",
     "output_type": "stream",
     "text": [
      "\n"
     ]
    }
   ],
   "source": [
    "path_to_config = './configs/multi30k-small.yaml'\n",
    "run_id = 'multi30k-small'\n",
    "device = 'cuda'\n",
    "\n",
    "logger = get_logger(\"Main\")\n",
    "      \n",
    "if os.path.exists(f'./models/{run_id}/metrics'):\n",
    "      logger.error('Run ID already exists!')\n",
    "      sys.exit(1)\n",
    "else:\n",
    "      os.makedirs(f'./models/{run_id}/metrics')\n",
    "      \n",
    "with open(path_to_config) as stream:\n",
    "      config = yaml.safe_load(stream)\n",
    "\n",
    "shared_conf = SharedConfig(run_id=run_id)\n",
    "dl_conf = DataLoaderConfig(**config['dataloader'])\n",
    "\n",
    "if dl_conf.dataset == \"iwslt2017\":\n",
    "      dataloader = IWSLT2017DataLoader.new_instance(dl_conf, shared_conf)\n",
    "else:\n",
    "      # backtranslate False because it is very time consuming\n",
    "      dataloader = Multi30kDataLoader.new_instance(dl_conf, shared_conf, back_translate=False)\n",
    "            \n",
    "train_dataloader = dataloader.train_dataloader\n",
    "test_dataloader = dataloader.test_dataloader\n",
    "val_dataloader = dataloader.val_dataloader\n",
    "tokenizer = dataloader.tokenizer\n",
    "val_dataset = dataloader.val_dataset"
   ]
  },
  {
   "cell_type": "markdown",
   "metadata": {},
   "source": [
    "### Section Load Model and Processor"
   ]
  },
  {
   "cell_type": "code",
   "execution_count": 4,
   "metadata": {},
   "outputs": [
    {
     "data": {
      "text/plain": [
       "====================================================================================================\n",
       "Layer (type:depth-idx)                             Output Shape              Param #\n",
       "====================================================================================================\n",
       "Seq2SeqTransformer                                 [256, 128, 1640]          --\n",
       "├─TokenEmbedding: 1-1                              [256, 128, 256]           --\n",
       "│    └─Embedding: 2-1                              [256, 128, 256]           419,840\n",
       "├─PositionalEncoding: 1-2                          [256, 128, 256]           --\n",
       "│    └─Dropout: 2-2                                [256, 128, 256]           --\n",
       "├─TokenEmbedding: 1-3                              [256, 128, 256]           --\n",
       "│    └─Embedding: 2-3                              [256, 128, 256]           419,840\n",
       "├─PositionalEncoding: 1-4                          [256, 128, 256]           --\n",
       "│    └─Dropout: 2-4                                [256, 128, 256]           --\n",
       "├─Transformer: 1-5                                 [256, 128, 256]           --\n",
       "│    └─TransformerEncoder: 2-5                     [256, 128, 256]           --\n",
       "│    │    └─ModuleList: 3-1                        --                        2,369,280\n",
       "│    │    └─LayerNorm: 3-2                         [256, 128, 256]           512\n",
       "│    └─TransformerDecoder: 2-6                     [256, 128, 256]           --\n",
       "│    │    └─ModuleList: 3-3                        --                        3,160,320\n",
       "│    │    └─LayerNorm: 3-4                         [256, 128, 256]           512\n",
       "├─Linear: 1-6                                      [256, 128, 1640]          421,480\n",
       "====================================================================================================\n",
       "Total params: 6,791,784\n",
       "Trainable params: 6,791,784\n",
       "Non-trainable params: 0\n",
       "Total mult-adds (Units.GIGABYTES): 1.13\n",
       "====================================================================================================\n",
       "Input size (MB): 1.05\n",
       "Forward/backward pass size (MB): 3718.25\n",
       "Params size (MB): 17.69\n",
       "Estimated Total Size (MB): 3736.99\n",
       "===================================================================================================="
      ]
     },
     "execution_count": 4,
     "metadata": {},
     "output_type": "execute_result"
    }
   ],
   "source": [
    "SRC_VOCAB_SIZE, TGT_VOCAB_SIZE = tokenizer.get_vocab_size(), tokenizer.get_vocab_size()\n",
    "\n",
    "model_conf = TransformerConfig(\n",
    "      **config['transformer'], \n",
    "      src_vocab_size=SRC_VOCAB_SIZE, \n",
    "      tgt_vocab_size=TGT_VOCAB_SIZE\n",
    ")\n",
    "\n",
    "transformer = Seq2SeqTransformer(model_conf)\n",
    "translator = Processor.from_instance(transformer, tokenizer, device)\n",
    "\n",
    "trainer_conf = TrainerConfig(\n",
    "      **config['trainer'],\n",
    "      device=device, \n",
    "      batch_size=dl_conf.batch_size\n",
    ")\n",
    "summary(transformer, [(256, dl_conf.batch_size), (256, dl_conf.batch_size), \n",
    "                      (256, 256), (256, 256), \n",
    "                      (dl_conf.batch_size, 256), (dl_conf.batch_size, 256)], depth=3)"
   ]
  },
  {
   "cell_type": "markdown",
   "metadata": {},
   "source": [
    "### Section Train model"
   ]
  },
  {
   "cell_type": "code",
   "execution_count": 5,
   "metadata": {},
   "outputs": [
    {
     "name": "stderr",
     "output_type": "stream",
     "text": [
      "2024-06-14 19:51:55,371 | Trainer | INFO : epoch 1 avg_training_loss: 6.405 (10.237s)\n",
      "2024-06-14 19:51:55,728 | Trainer | INFO : epoch 1 avg_test_loss: 5.426 (0.356s)\n",
      "2024-06-14 19:52:05,954 | Trainer | INFO : epoch 2 avg_training_loss: 4.71 (9.892s)\n",
      "2024-06-14 19:52:06,324 | Trainer | INFO : epoch 2 avg_test_loss: 3.858 (0.369s)\n",
      "2024-06-14 19:52:16,332 | Trainer | INFO : epoch 3 avg_training_loss: 3.545 (9.749s)\n",
      "2024-06-14 19:52:16,766 | Trainer | INFO : epoch 3 avg_test_loss: 3.064 (0.432s)\n",
      "2024-06-14 19:52:26,956 | Trainer | INFO : epoch 4 avg_training_loss: 2.908 (9.943s)\n",
      "2024-06-14 19:52:27,333 | Trainer | INFO : epoch 4 avg_test_loss: 2.52 (0.377s)\n",
      "2024-06-14 19:52:37,535 | Trainer | INFO : epoch 5 avg_training_loss: 2.47 (9.957s)\n",
      "2024-06-14 19:52:37,927 | Trainer | INFO : epoch 5 avg_test_loss: 2.17 (0.391s)\n",
      "2024-06-14 19:52:48,061 | Trainer | INFO : epoch 6 avg_training_loss: 2.163 (9.889s)\n",
      "2024-06-14 19:52:48,499 | Trainer | INFO : epoch 6 avg_test_loss: 1.915 (0.438s)\n",
      "2024-06-14 19:52:58,710 | Trainer | INFO : epoch 7 avg_training_loss: 1.938 (9.961s)\n",
      "2024-06-14 19:52:59,094 | Trainer | INFO : epoch 7 avg_test_loss: 1.742 (0.383s)\n",
      "/home/Coding/python/transformer/src/trainer.py:553: RuntimeWarning: More than 20 figures have been opened. Figures created through the pyplot interface (`matplotlib.pyplot.figure`) are retained until explicitly closed and may consume too much memory. (To control this warning, see the rcParam `figure.max_open_warning`). Consider using `matplotlib.pyplot.close()`.\n",
      "  plt.figure(figsize=(8, 6))\n",
      "2024-06-14 19:53:09,276 | Trainer | INFO : epoch 8 avg_training_loss: 1.773 (9.919s)\n",
      "2024-06-14 19:53:09,705 | Trainer | INFO : epoch 8 avg_test_loss: 1.602 (0.428s)\n",
      "2024-06-14 19:53:20,036 | Trainer | INFO : epoch 9 avg_training_loss: 1.645 (10.079s)\n",
      "2024-06-14 19:53:20,441 | Trainer | INFO : epoch 9 avg_test_loss: 1.504 (0.404s)\n",
      "2024-06-14 19:53:30,598 | Trainer | INFO : epoch 10 avg_training_loss: 1.546 (9.901s)\n",
      "2024-06-14 19:53:31,055 | Trainer | INFO : epoch 10 avg_test_loss: 1.427 (0.456s)\n",
      "2024-06-14 19:53:41,281 | Trainer | INFO : epoch 11 avg_training_loss: 1.461 (9.98s)\n",
      "2024-06-14 19:53:41,703 | Trainer | INFO : epoch 11 avg_test_loss: 1.377 (0.421s)\n",
      "2024-06-14 19:53:51,857 | Trainer | INFO : epoch 12 avg_training_loss: 1.388 (9.904s)\n",
      "2024-06-14 19:53:52,245 | Trainer | INFO : epoch 12 avg_test_loss: 1.324 (0.386s)\n",
      "2024-06-14 19:54:02,422 | Trainer | INFO : epoch 13 avg_training_loss: 1.327 (9.905s)\n",
      "2024-06-14 19:54:02,847 | Trainer | INFO : epoch 13 avg_test_loss: 1.281 (0.424s)\n",
      "2024-06-14 19:54:13,220 | Trainer | INFO : epoch 14 avg_training_loss: 1.275 (10.005s)\n",
      "2024-06-14 19:54:13,613 | Trainer | INFO : epoch 14 avg_test_loss: 1.243 (0.392s)\n",
      "2024-06-14 19:54:23,871 | Trainer | INFO : epoch 15 avg_training_loss: 1.229 (10.01s)\n",
      "2024-06-14 19:54:24,287 | Trainer | INFO : epoch 15 avg_test_loss: 1.219 (0.416s)\n",
      "2024-06-14 19:54:34,481 | Trainer | INFO : epoch 16 avg_training_loss: 1.188 (9.942s)\n",
      "2024-06-14 19:54:34,939 | Trainer | INFO : epoch 16 avg_test_loss: 1.195 (0.457s)\n",
      "2024-06-14 19:54:45,162 | Trainer | INFO : epoch 17 avg_training_loss: 1.15 (9.971s)\n",
      "2024-06-14 19:54:45,556 | Trainer | INFO : epoch 17 avg_test_loss: 1.174 (0.393s)\n",
      "2024-06-14 19:54:55,839 | Trainer | INFO : epoch 18 avg_training_loss: 1.117 (10.017s)\n",
      "2024-06-14 19:54:56,248 | Trainer | INFO : epoch 18 avg_test_loss: 1.156 (0.408s)\n",
      "2024-06-14 19:55:06,630 | Trainer | INFO : epoch 19 avg_training_loss: 1.087 (10.117s)\n",
      "2024-06-14 19:55:07,014 | Trainer | INFO : epoch 19 avg_test_loss: 1.14 (0.383s)\n",
      "2024-06-14 19:55:17,310 | Trainer | INFO : epoch 20 avg_training_loss: 1.061 (10.052s)\n",
      "2024-06-14 19:55:17,697 | Trainer | INFO : epoch 20 avg_test_loss: 1.126 (0.386s)\n",
      "2024-06-14 19:55:27,884 | Trainer | INFO : epoch 21 avg_training_loss: 1.036 (9.95s)\n",
      "2024-06-14 19:55:28,349 | Trainer | INFO : epoch 21 avg_test_loss: 1.113 (0.464s)\n",
      "2024-06-14 19:55:38,475 | Trainer | INFO : epoch 22 avg_training_loss: 1.013 (9.882s)\n",
      "2024-06-14 19:55:38,888 | Trainer | INFO : epoch 22 avg_test_loss: 1.105 (0.413s)\n",
      "2024-06-14 19:55:49,029 | Trainer | INFO : epoch 23 avg_training_loss: 0.99 (9.903s)\n",
      "2024-06-14 19:55:49,433 | Trainer | INFO : epoch 23 avg_test_loss: 1.097 (0.403s)\n",
      "2024-06-14 19:55:59,722 | Trainer | INFO : epoch 24 avg_training_loss: 0.972 (10.029s)\n",
      "2024-06-14 19:56:00,165 | Trainer | INFO : epoch 24 avg_test_loss: 1.085 (0.442s)\n",
      "2024-06-14 19:56:10,370 | Trainer | INFO : epoch 25 avg_training_loss: 0.954 (9.961s)\n",
      "2024-06-14 19:56:10,798 | Trainer | INFO : epoch 25 avg_test_loss: 1.083 (0.427s)\n",
      "2024-06-14 19:56:21,009 | Trainer | INFO : epoch 26 avg_training_loss: 0.939 (9.968s)\n",
      "2024-06-14 19:56:21,487 | Trainer | INFO : epoch 26 avg_test_loss: 1.078 (0.477s)\n",
      "2024-06-14 19:56:31,667 | Trainer | INFO : epoch 27 avg_training_loss: 0.923 (9.924s)\n",
      "2024-06-14 19:56:32,167 | Trainer | INFO : epoch 27 avg_test_loss: 1.071 (0.499s)\n",
      "2024-06-14 19:56:42,355 | Trainer | INFO : epoch 28 avg_training_loss: 0.911 (9.939s)\n",
      "2024-06-14 19:56:42,783 | Trainer | INFO : epoch 28 avg_test_loss: 1.068 (0.427s)\n",
      "2024-06-14 19:56:53,077 | Trainer | INFO : epoch 29 avg_training_loss: 0.898 (10.04s)\n",
      "2024-06-14 19:56:53,513 | Trainer | INFO : epoch 29 avg_test_loss: 1.064 (0.435s)\n",
      "2024-06-14 19:57:03,691 | Trainer | INFO : epoch 30 avg_training_loss: 0.887 (9.927s)\n",
      "2024-06-14 19:57:04,115 | Trainer | INFO : epoch 30 avg_test_loss: 1.057 (0.424s)\n",
      "2024-06-14 19:57:14,814 | Trainer | INFO : epoch 31 avg_training_loss: 0.878 (10.447s)\n",
      "2024-06-14 19:57:15,264 | Trainer | INFO : epoch 31 avg_test_loss: 1.056 (0.449s)\n",
      "2024-06-14 19:57:25,548 | Trainer | INFO : epoch 32 avg_training_loss: 0.868 (10.022s)\n",
      "2024-06-14 19:57:25,984 | Trainer | INFO : epoch 32 avg_test_loss: 1.052 (0.435s)\n",
      "2024-06-14 19:57:36,199 | Trainer | INFO : epoch 33 avg_training_loss: 0.862 (9.939s)\n",
      "2024-06-14 19:57:36,614 | Trainer | INFO : epoch 33 avg_test_loss: 1.051 (0.414s)\n",
      "2024-06-14 19:57:46,766 | Trainer | INFO : epoch 34 avg_training_loss: 0.854 (9.893s)\n",
      "2024-06-14 19:57:47,248 | Trainer | INFO : epoch 34 avg_test_loss: 1.051 (0.481s)\n",
      "2024-06-14 19:57:57,488 | Trainer | INFO : epoch 35 avg_training_loss: 0.85 (9.979s)\n",
      "2024-06-14 19:57:57,949 | Trainer | INFO : epoch 35 avg_test_loss: 1.047 (0.46s)\n",
      "2024-06-14 19:57:58,514 | Trainer | INFO : Saved model checkpoint to ./models/multi30k-small/checkpoint_scripted.pt\n",
      "2024-06-14 19:57:58,615 | Trainer | INFO : Saved model checkpoint to ./models/multi30k-small/checkpoint.pt\n"
     ]
    },
    {
     "data": {
      "text/plain": [
       "<Figure size 800x600 with 0 Axes>"
      ]
     },
     "metadata": {},
     "output_type": "display_data"
    },
    {
     "data": {
      "text/plain": [
       "<Figure size 800x600 with 0 Axes>"
      ]
     },
     "metadata": {},
     "output_type": "display_data"
    },
    {
     "data": {
      "text/plain": [
       "<Figure size 800x600 with 0 Axes>"
      ]
     },
     "metadata": {},
     "output_type": "display_data"
    },
    {
     "data": {
      "text/plain": [
       "<Figure size 800x600 with 0 Axes>"
      ]
     },
     "metadata": {},
     "output_type": "display_data"
    },
    {
     "data": {
      "text/plain": [
       "<Figure size 800x600 with 0 Axes>"
      ]
     },
     "metadata": {},
     "output_type": "display_data"
    },
    {
     "data": {
      "text/plain": [
       "<Figure size 800x600 with 0 Axes>"
      ]
     },
     "metadata": {},
     "output_type": "display_data"
    },
    {
     "data": {
      "text/plain": [
       "<Figure size 800x600 with 0 Axes>"
      ]
     },
     "metadata": {},
     "output_type": "display_data"
    },
    {
     "data": {
      "text/plain": [
       "<Figure size 800x600 with 0 Axes>"
      ]
     },
     "metadata": {},
     "output_type": "display_data"
    },
    {
     "data": {
      "text/plain": [
       "<Figure size 800x600 with 0 Axes>"
      ]
     },
     "metadata": {},
     "output_type": "display_data"
    },
    {
     "data": {
      "text/plain": [
       "<Figure size 800x600 with 0 Axes>"
      ]
     },
     "metadata": {},
     "output_type": "display_data"
    },
    {
     "data": {
      "text/plain": [
       "<Figure size 800x600 with 0 Axes>"
      ]
     },
     "metadata": {},
     "output_type": "display_data"
    },
    {
     "data": {
      "text/plain": [
       "<Figure size 800x600 with 0 Axes>"
      ]
     },
     "metadata": {},
     "output_type": "display_data"
    },
    {
     "data": {
      "text/plain": [
       "<Figure size 800x600 with 0 Axes>"
      ]
     },
     "metadata": {},
     "output_type": "display_data"
    },
    {
     "data": {
      "text/plain": [
       "<Figure size 800x600 with 0 Axes>"
      ]
     },
     "metadata": {},
     "output_type": "display_data"
    },
    {
     "data": {
      "text/plain": [
       "<Figure size 800x600 with 0 Axes>"
      ]
     },
     "metadata": {},
     "output_type": "display_data"
    },
    {
     "data": {
      "text/plain": [
       "<Figure size 800x600 with 0 Axes>"
      ]
     },
     "metadata": {},
     "output_type": "display_data"
    },
    {
     "data": {
      "text/plain": [
       "<Figure size 800x600 with 0 Axes>"
      ]
     },
     "metadata": {},
     "output_type": "display_data"
    },
    {
     "data": {
      "text/plain": [
       "<Figure size 800x600 with 0 Axes>"
      ]
     },
     "metadata": {},
     "output_type": "display_data"
    },
    {
     "data": {
      "text/plain": [
       "<Figure size 800x600 with 0 Axes>"
      ]
     },
     "metadata": {},
     "output_type": "display_data"
    },
    {
     "data": {
      "text/plain": [
       "<Figure size 800x600 with 0 Axes>"
      ]
     },
     "metadata": {},
     "output_type": "display_data"
    },
    {
     "data": {
      "text/plain": [
       "<Figure size 800x600 with 0 Axes>"
      ]
     },
     "metadata": {},
     "output_type": "display_data"
    },
    {
     "data": {
      "text/plain": [
       "<Figure size 800x600 with 0 Axes>"
      ]
     },
     "metadata": {},
     "output_type": "display_data"
    },
    {
     "data": {
      "text/plain": [
       "<Figure size 800x600 with 0 Axes>"
      ]
     },
     "metadata": {},
     "output_type": "display_data"
    },
    {
     "data": {
      "text/plain": [
       "<Figure size 800x600 with 0 Axes>"
      ]
     },
     "metadata": {},
     "output_type": "display_data"
    },
    {
     "data": {
      "text/plain": [
       "<Figure size 800x600 with 0 Axes>"
      ]
     },
     "metadata": {},
     "output_type": "display_data"
    },
    {
     "data": {
      "text/plain": [
       "<Figure size 800x600 with 0 Axes>"
      ]
     },
     "metadata": {},
     "output_type": "display_data"
    },
    {
     "data": {
      "text/plain": [
       "<Figure size 800x600 with 0 Axes>"
      ]
     },
     "metadata": {},
     "output_type": "display_data"
    },
    {
     "data": {
      "text/plain": [
       "<Figure size 800x600 with 0 Axes>"
      ]
     },
     "metadata": {},
     "output_type": "display_data"
    },
    {
     "data": {
      "text/plain": [
       "<Figure size 800x600 with 0 Axes>"
      ]
     },
     "metadata": {},
     "output_type": "display_data"
    },
    {
     "data": {
      "text/plain": [
       "<Figure size 800x600 with 0 Axes>"
      ]
     },
     "metadata": {},
     "output_type": "display_data"
    },
    {
     "data": {
      "text/plain": [
       "<Figure size 800x600 with 0 Axes>"
      ]
     },
     "metadata": {},
     "output_type": "display_data"
    },
    {
     "data": {
      "text/plain": [
       "<Figure size 800x600 with 0 Axes>"
      ]
     },
     "metadata": {},
     "output_type": "display_data"
    },
    {
     "data": {
      "text/plain": [
       "<Figure size 800x600 with 0 Axes>"
      ]
     },
     "metadata": {},
     "output_type": "display_data"
    },
    {
     "data": {
      "text/plain": [
       "<Figure size 800x600 with 0 Axes>"
      ]
     },
     "metadata": {},
     "output_type": "display_data"
    },
    {
     "data": {
      "text/plain": [
       "<Figure size 800x600 with 0 Axes>"
      ]
     },
     "metadata": {},
     "output_type": "display_data"
    },
    {
     "data": {
      "text/plain": [
       "<Figure size 800x600 with 0 Axes>"
      ]
     },
     "metadata": {},
     "output_type": "display_data"
    },
    {
     "data": {
      "text/plain": [
       "<Figure size 800x600 with 0 Axes>"
      ]
     },
     "metadata": {},
     "output_type": "display_data"
    },
    {
     "data": {
      "text/plain": [
       "<Figure size 800x600 with 0 Axes>"
      ]
     },
     "metadata": {},
     "output_type": "display_data"
    },
    {
     "data": {
      "text/plain": [
       "<Figure size 800x600 with 0 Axes>"
      ]
     },
     "metadata": {},
     "output_type": "display_data"
    },
    {
     "data": {
      "text/plain": [
       "<Figure size 800x600 with 0 Axes>"
      ]
     },
     "metadata": {},
     "output_type": "display_data"
    },
    {
     "data": {
      "text/plain": [
       "<Figure size 800x600 with 0 Axes>"
      ]
     },
     "metadata": {},
     "output_type": "display_data"
    },
    {
     "data": {
      "text/plain": [
       "<Figure size 800x600 with 0 Axes>"
      ]
     },
     "metadata": {},
     "output_type": "display_data"
    },
    {
     "data": {
      "text/plain": [
       "<Figure size 800x600 with 0 Axes>"
      ]
     },
     "metadata": {},
     "output_type": "display_data"
    },
    {
     "data": {
      "text/plain": [
       "<Figure size 800x600 with 0 Axes>"
      ]
     },
     "metadata": {},
     "output_type": "display_data"
    },
    {
     "data": {
      "text/plain": [
       "<Figure size 800x600 with 0 Axes>"
      ]
     },
     "metadata": {},
     "output_type": "display_data"
    },
    {
     "data": {
      "text/plain": [
       "<Figure size 800x600 with 0 Axes>"
      ]
     },
     "metadata": {},
     "output_type": "display_data"
    },
    {
     "data": {
      "text/plain": [
       "<Figure size 800x600 with 0 Axes>"
      ]
     },
     "metadata": {},
     "output_type": "display_data"
    },
    {
     "data": {
      "text/plain": [
       "<Figure size 800x600 with 0 Axes>"
      ]
     },
     "metadata": {},
     "output_type": "display_data"
    },
    {
     "data": {
      "text/plain": [
       "<Figure size 800x600 with 0 Axes>"
      ]
     },
     "metadata": {},
     "output_type": "display_data"
    },
    {
     "data": {
      "text/plain": [
       "<Figure size 800x600 with 0 Axes>"
      ]
     },
     "metadata": {},
     "output_type": "display_data"
    },
    {
     "data": {
      "text/plain": [
       "<Figure size 800x600 with 0 Axes>"
      ]
     },
     "metadata": {},
     "output_type": "display_data"
    },
    {
     "data": {
      "text/plain": [
       "<Figure size 800x600 with 0 Axes>"
      ]
     },
     "metadata": {},
     "output_type": "display_data"
    },
    {
     "data": {
      "text/plain": [
       "<Figure size 800x600 with 0 Axes>"
      ]
     },
     "metadata": {},
     "output_type": "display_data"
    },
    {
     "data": {
      "text/plain": [
       "<Figure size 800x600 with 0 Axes>"
      ]
     },
     "metadata": {},
     "output_type": "display_data"
    },
    {
     "data": {
      "text/plain": [
       "<Figure size 800x600 with 0 Axes>"
      ]
     },
     "metadata": {},
     "output_type": "display_data"
    },
    {
     "data": {
      "text/plain": [
       "<Figure size 800x600 with 0 Axes>"
      ]
     },
     "metadata": {},
     "output_type": "display_data"
    },
    {
     "data": {
      "text/plain": [
       "<Figure size 800x600 with 0 Axes>"
      ]
     },
     "metadata": {},
     "output_type": "display_data"
    },
    {
     "data": {
      "text/plain": [
       "<Figure size 800x600 with 0 Axes>"
      ]
     },
     "metadata": {},
     "output_type": "display_data"
    },
    {
     "data": {
      "text/plain": [
       "<Figure size 800x600 with 0 Axes>"
      ]
     },
     "metadata": {},
     "output_type": "display_data"
    },
    {
     "data": {
      "text/plain": [
       "<Figure size 800x600 with 0 Axes>"
      ]
     },
     "metadata": {},
     "output_type": "display_data"
    },
    {
     "data": {
      "text/plain": [
       "<Figure size 800x600 with 0 Axes>"
      ]
     },
     "metadata": {},
     "output_type": "display_data"
    },
    {
     "data": {
      "text/plain": [
       "<Figure size 800x600 with 0 Axes>"
      ]
     },
     "metadata": {},
     "output_type": "display_data"
    },
    {
     "data": {
      "text/plain": [
       "<Figure size 800x600 with 0 Axes>"
      ]
     },
     "metadata": {},
     "output_type": "display_data"
    },
    {
     "data": {
      "text/plain": [
       "<Figure size 800x600 with 0 Axes>"
      ]
     },
     "metadata": {},
     "output_type": "display_data"
    },
    {
     "data": {
      "text/plain": [
       "<Figure size 800x600 with 0 Axes>"
      ]
     },
     "metadata": {},
     "output_type": "display_data"
    },
    {
     "data": {
      "text/plain": [
       "<Figure size 800x600 with 0 Axes>"
      ]
     },
     "metadata": {},
     "output_type": "display_data"
    },
    {
     "data": {
      "text/plain": [
       "<Figure size 800x600 with 0 Axes>"
      ]
     },
     "metadata": {},
     "output_type": "display_data"
    },
    {
     "data": {
      "text/plain": [
       "<Figure size 800x600 with 0 Axes>"
      ]
     },
     "metadata": {},
     "output_type": "display_data"
    },
    {
     "data": {
      "text/plain": [
       "<Figure size 800x600 with 0 Axes>"
      ]
     },
     "metadata": {},
     "output_type": "display_data"
    },
    {
     "data": {
      "text/plain": [
       "<Figure size 800x600 with 0 Axes>"
      ]
     },
     "metadata": {},
     "output_type": "display_data"
    },
    {
     "data": {
      "text/plain": [
       "<Figure size 800x600 with 0 Axes>"
      ]
     },
     "metadata": {},
     "output_type": "display_data"
    },
    {
     "data": {
      "text/plain": [
       "<Figure size 800x600 with 0 Axes>"
      ]
     },
     "metadata": {},
     "output_type": "display_data"
    },
    {
     "data": {
      "text/plain": [
       "<Figure size 800x600 with 0 Axes>"
      ]
     },
     "metadata": {},
     "output_type": "display_data"
    },
    {
     "data": {
      "text/plain": [
       "<Figure size 800x600 with 0 Axes>"
      ]
     },
     "metadata": {},
     "output_type": "display_data"
    },
    {
     "data": {
      "text/plain": [
       "<Figure size 800x600 with 0 Axes>"
      ]
     },
     "metadata": {},
     "output_type": "display_data"
    },
    {
     "data": {
      "text/plain": [
       "<Figure size 800x600 with 0 Axes>"
      ]
     },
     "metadata": {},
     "output_type": "display_data"
    },
    {
     "data": {
      "text/plain": [
       "<Figure size 800x600 with 0 Axes>"
      ]
     },
     "metadata": {},
     "output_type": "display_data"
    },
    {
     "data": {
      "text/plain": [
       "<Figure size 800x600 with 0 Axes>"
      ]
     },
     "metadata": {},
     "output_type": "display_data"
    },
    {
     "data": {
      "text/plain": [
       "<Figure size 800x600 with 0 Axes>"
      ]
     },
     "metadata": {},
     "output_type": "display_data"
    },
    {
     "data": {
      "text/plain": [
       "<Figure size 800x600 with 0 Axes>"
      ]
     },
     "metadata": {},
     "output_type": "display_data"
    },
    {
     "data": {
      "text/plain": [
       "<Figure size 800x600 with 0 Axes>"
      ]
     },
     "metadata": {},
     "output_type": "display_data"
    },
    {
     "data": {
      "text/plain": [
       "<Figure size 800x600 with 0 Axes>"
      ]
     },
     "metadata": {},
     "output_type": "display_data"
    },
    {
     "data": {
      "text/plain": [
       "<Figure size 800x600 with 0 Axes>"
      ]
     },
     "metadata": {},
     "output_type": "display_data"
    },
    {
     "data": {
      "text/plain": [
       "<Figure size 800x600 with 0 Axes>"
      ]
     },
     "metadata": {},
     "output_type": "display_data"
    },
    {
     "data": {
      "text/plain": [
       "<Figure size 800x600 with 0 Axes>"
      ]
     },
     "metadata": {},
     "output_type": "display_data"
    },
    {
     "data": {
      "text/plain": [
       "<Figure size 800x600 with 0 Axes>"
      ]
     },
     "metadata": {},
     "output_type": "display_data"
    },
    {
     "data": {
      "text/plain": [
       "<Figure size 800x600 with 0 Axes>"
      ]
     },
     "metadata": {},
     "output_type": "display_data"
    },
    {
     "data": {
      "text/plain": [
       "<Figure size 800x600 with 0 Axes>"
      ]
     },
     "metadata": {},
     "output_type": "display_data"
    },
    {
     "data": {
      "text/plain": [
       "<Figure size 800x600 with 0 Axes>"
      ]
     },
     "metadata": {},
     "output_type": "display_data"
    },
    {
     "data": {
      "text/plain": [
       "<Figure size 800x600 with 0 Axes>"
      ]
     },
     "metadata": {},
     "output_type": "display_data"
    },
    {
     "data": {
      "text/plain": [
       "<Figure size 800x600 with 0 Axes>"
      ]
     },
     "metadata": {},
     "output_type": "display_data"
    },
    {
     "data": {
      "text/plain": [
       "<Figure size 800x600 with 0 Axes>"
      ]
     },
     "metadata": {},
     "output_type": "display_data"
    },
    {
     "data": {
      "text/plain": [
       "<Figure size 800x600 with 0 Axes>"
      ]
     },
     "metadata": {},
     "output_type": "display_data"
    },
    {
     "data": {
      "text/plain": [
       "<Figure size 800x600 with 0 Axes>"
      ]
     },
     "metadata": {},
     "output_type": "display_data"
    },
    {
     "data": {
      "text/plain": [
       "<Figure size 800x600 with 0 Axes>"
      ]
     },
     "metadata": {},
     "output_type": "display_data"
    },
    {
     "data": {
      "text/plain": [
       "<Figure size 800x600 with 0 Axes>"
      ]
     },
     "metadata": {},
     "output_type": "display_data"
    },
    {
     "data": {
      "text/plain": [
       "<Figure size 800x600 with 0 Axes>"
      ]
     },
     "metadata": {},
     "output_type": "display_data"
    },
    {
     "data": {
      "text/plain": [
       "<Figure size 800x600 with 0 Axes>"
      ]
     },
     "metadata": {},
     "output_type": "display_data"
    },
    {
     "data": {
      "text/plain": [
       "<Figure size 800x600 with 0 Axes>"
      ]
     },
     "metadata": {},
     "output_type": "display_data"
    },
    {
     "data": {
      "text/plain": [
       "<Figure size 800x600 with 0 Axes>"
      ]
     },
     "metadata": {},
     "output_type": "display_data"
    },
    {
     "data": {
      "text/plain": [
       "<Figure size 800x600 with 0 Axes>"
      ]
     },
     "metadata": {},
     "output_type": "display_data"
    },
    {
     "data": {
      "text/plain": [
       "<Figure size 800x600 with 0 Axes>"
      ]
     },
     "metadata": {},
     "output_type": "display_data"
    },
    {
     "data": {
      "text/plain": [
       "<Figure size 800x600 with 0 Axes>"
      ]
     },
     "metadata": {},
     "output_type": "display_data"
    },
    {
     "data": {
      "text/plain": [
       "<Figure size 800x600 with 0 Axes>"
      ]
     },
     "metadata": {},
     "output_type": "display_data"
    },
    {
     "data": {
      "text/plain": [
       "<Figure size 800x600 with 0 Axes>"
      ]
     },
     "metadata": {},
     "output_type": "display_data"
    }
   ],
   "source": [
    "early_stopper = EarlyStopper(warmup=17, patience=7, min_delta=0)\n",
    "\n",
    "trainer = Trainer.new_instance(transformer, translator, train_dataloader, test_dataloader, val_dataloader, \n",
    "                               tokenizer, early_stopper, trainer_conf, device, run_id)\n",
    "\n",
    "trainer.train()"
   ]
  },
  {
   "cell_type": "markdown",
   "metadata": {},
   "source": [
    "### Section Evaluate"
   ]
  },
  {
   "cell_type": "code",
   "execution_count": 7,
   "metadata": {},
   "outputs": [
    {
     "data": {
      "image/png": "[encoded data removed]",
      "text/plain": [
       "<IPython.core.display.Image object>"
      ]
     },
     "execution_count": 7,
     "metadata": {},
     "output_type": "execute_result"
    }
   ],
   "source": [
    "from IPython.display import Image\n",
    "Image(filename=f'./models/{run_id}/metrics/learning_rate.png')"
   ]
  },
  {
   "cell_type": "code",
   "execution_count": 8,
   "metadata": {},
   "outputs": [
    {
     "data": {
      "image/png": "[encoded data removed]",
      "text/plain": [
       "<IPython.core.display.Image object>"
      ]
     },
     "execution_count": 8,
     "metadata": {},
     "output_type": "execute_result"
    }
   ],
   "source": [
    "Image(filename=f'./models/{run_id}/metrics/train_loss.png')"
   ]
  },
  {
   "cell_type": "code",
   "execution_count": 6,
   "metadata": {},
   "outputs": [
    {
     "data": {
      "image/png": "[encoded data removed]",
      "text/plain": [
       "<IPython.core.display.Image object>"
      ]
     },
     "execution_count": 6,
     "metadata": {},
     "output_type": "execute_result"
    }
   ],
   "source": [
    "Image(filename=f'./models/{run_id}/metrics/test_loss.png')"
   ]
  },
  {
   "cell_type": "code",
   "execution_count": null,
   "metadata": {},
   "outputs": [],
   "source": [
    "# Only execute if no training was executed yet.\n",
    "shared_conf = SharedConfig()\n",
    "dl_conf = DataLoaderConfig()\n",
    "\n",
    "dataloader = IWSLT2017DataLoader(dl_conf, shared_conf)\n",
    "            \n",
    "val_dataset = dataloader.val_dataset"
   ]
  },
  {
   "cell_type": "markdown",
   "metadata": {},
   "source": [
    "### Prepare translator, metrics and dataset"
   ]
  },
  {
   "cell_type": "code",
   "execution_count": 9,
   "metadata": {},
   "outputs": [
    {
     "name": "stderr",
     "output_type": "stream",
     "text": [
      "[nltk_data] Downloading package wordnet to /home/nico/nltk_data...\n",
      "[nltk_data]   Package wordnet is already up-to-date!\n",
      "[nltk_data] Downloading package punkt to /home/nico/nltk_data...\n",
      "[nltk_data]   Package punkt is already up-to-date!\n",
      "[nltk_data] Downloading package omw-1.4 to /home/nico/nltk_data...\n",
      "[nltk_data]   Package omw-1.4 is already up-to-date!\n"
     ]
    }
   ],
   "source": [
    "from evaluate import load as load_metric\n",
    "import torch\n",
    "# If one want to evaluate another model that was not trained before through this notebook - \n",
    "# specify here the path to the model checkpoint and tokenizer:\n",
    "# path_to_checkpoint = \"\"\n",
    "# path_to_tokenizer = \"\"\n",
    "# Don't forget to comment the paths below\n",
    "\n",
    "model_dir = f\"./models/{run_id}\"\n",
    "path_to_tokenizer = f\"{model_dir}/tokenizer.json\"\n",
    "\n",
    "if os.path.isfile(f\"{model_dir}/best_checkpoint_scripted.pt\"):\n",
    "    path_to_checkpoint = f\"{model_dir}/best_checkpoint_scripted.pt\"\n",
    "elif os.path.isfile(f\"{model_dir}/last_checkpoint_scripted.pt\"):\n",
    "    path_to_checkpoint = f\"{model_dir}/last_checkpoint_scripted.pt\"\n",
    "else:\n",
    "    path_to_checkpoint = f\"{model_dir}/checkpoint_scripted.pt\"\n",
    "    \n",
    "device = torch.device(\"cuda\" if torch.cuda.is_available() else \"cpu\")\n",
    "\n",
    "translator = Processor.from_checkpoint(model_checkpoint=path_to_checkpoint, \n",
    "                                             tokenizer=path_to_tokenizer, \n",
    "                                             device=device)\n",
    "      \n",
    "bleu = load_metric(\"bleu\")\n",
    "sacre_bleu = load_metric(\"sacrebleu\")\n",
    "rouge = load_metric(\"rouge\")\n",
    "meteor = load_metric(\"meteor\")\n",
    "\n",
    "outputs = []\n",
    "sources = [x[0] for x in val_dataset]\n",
    "targets = [x[1] for x in val_dataset]"
   ]
  },
  {
   "cell_type": "markdown",
   "metadata": {},
   "source": [
    "### Generate samples"
   ]
  },
  {
   "cell_type": "code",
   "execution_count": 10,
   "metadata": {},
   "outputs": [
    {
     "name": "stdout",
     "output_type": "stream",
     "text": [
      "1450/1450\r"
     ]
    }
   ],
   "source": [
    "for idx, src in enumerate(sources):\n",
    "    output = translator.translate(src)\n",
    "            \n",
    "    outputs.append(output)\n",
    "            \n",
    "    print(f\"{idx+1}/{len(sources)}\", end='\\r')"
   ]
  },
  {
   "cell_type": "markdown",
   "metadata": {},
   "source": [
    "### Compute Scores"
   ]
  },
  {
   "cell_type": "code",
   "execution_count": 11,
   "metadata": {},
   "outputs": [
    {
     "name": "stderr",
     "output_type": "stream",
     "text": [
      "2024-06-14 20:00:33,396 | absl | INFO : Using default tokenizer.\n"
     ]
    }
   ],
   "source": [
    "import json\n",
    "\n",
    "bleu_score = bleu.compute(predictions=outputs, references=targets)\n",
    "            \n",
    "sacre_bleu_score = sacre_bleu.compute(predictions=outputs, references=targets)\n",
    "                                \n",
    "rouge_score = rouge.compute(predictions=outputs, references=targets)\n",
    "      \n",
    "meteor_score = meteor.compute(predictions=outputs, references=targets)\n",
    "      \n",
    "metrics = {'bleu': bleu_score, \n",
    "           'sacre_bleu': sacre_bleu_score, \n",
    "           'rouge': rouge_score, \n",
    "           'meteor': meteor_score}\n",
    "      \n",
    "# Convert and write JSON object to file\n",
    "with open(f\"./{shared_conf.src_language}test-{shared_conf.tgt_language}-metrics.json\", \"x\") as outfile: \n",
    "    json.dump(metrics, outfile, indent=4)"
   ]
  },
  {
   "cell_type": "markdown",
   "metadata": {},
   "source": [
    "### Print Scores"
   ]
  },
  {
   "cell_type": "code",
   "execution_count": 24,
   "metadata": {},
   "outputs": [
    {
     "name": "stdout",
     "output_type": "stream",
     "text": [
      "\n",
      "\n",
      "Evaluation: bleu_score - {'bleu': 0.2878368877343592, 'precisions': [0.566902854795646, 0.3484411405747254, 0.2303330115830116, 0.15086605844241702], 'brevity_penalty': 1.0, 'length_ratio': 1.0757843570481662, 'translation_length': 19476, 'reference_length': 18104}\n",
      "Evaluation: rouge_score - {'rouge1': 0.5997482731586703, 'rouge2': 0.4091375356770836, 'rougeL': 0.5739204740696295, 'rougeLsum': 0.5739341455880638}\n",
      "Evaluation: sacre_bleu_score - {'score': 28.78368877343592, 'counts': [11041, 6281, 3818, 2282], 'totals': [19476, 18026, 16576, 15126], 'precisions': [56.690285479564594, 34.84411405747254, 23.033301158301157, 15.086605844241703], 'bp': 1.0, 'sys_len': 19476, 'ref_len': 18104}\n",
      "Evaluation: meteor_score - {'meteor': 0.562192710948399}\n",
      "Input: A black dog leaps over a log., Output: Ein schwarzer Hund springt über einen Baumstamm über (Sample from training dataset)\n"
     ]
    }
   ],
   "source": [
    "print(f'\\n\\nEvaluation: bleu_score - {bleu_score}\\nEvaluation: rouge_score - {rouge_score}\\nEvaluation: sacre_bleu_score - {sacre_bleu_score}\\nEvaluation: meteor_score - {meteor_score}')\n",
    "      \n",
    "TEST_SEQUENCE = \"A black dog leaps over a log.\"\n",
    "output = translator.translate(TEST_SEQUENCE)\n",
    "      \n",
    "print(f'Input: {TEST_SEQUENCE}, Output: {output} (Sample from training dataset)')"
   ]
  },
  {
   "cell_type": "markdown",
   "metadata": {},
   "source": [
    "### Section Demo"
   ]
  },
  {
   "cell_type": "markdown",
   "metadata": {},
   "source": [
    "### Neccessary Imports"
   ]
  },
  {
   "cell_type": "code",
   "execution_count": 13,
   "metadata": {},
   "outputs": [
    {
     "name": "stderr",
     "output_type": "stream",
     "text": [
      "2024-06-14 20:01:05,218 | httpx | INFO : HTTP Request: GET https://api.gradio.app/gradio-messaging/en \"HTTP/1.1 200 OK\"\n"
     ]
    }
   ],
   "source": [
    "import gradio as gr\n",
    "from src.translate import check_device\n",
    "from utils.demo_model_config import ModelConfig"
   ]
  },
  {
   "cell_type": "markdown",
   "metadata": {},
   "source": [
    "### Load utils"
   ]
  },
  {
   "cell_type": "code",
   "execution_count": 14,
   "metadata": {},
   "outputs": [],
   "source": [
    "device = check_device('cpu')\n",
    "\n",
    "# Initialize model configuration\n",
    "model_config = ModelConfig(device)\n",
    "\n",
    "# Set up Gradio theme\n",
    "theme = gr.themes.Default()\n",
    "\n",
    "en_examples = [\"The quick brown fox jumps over the lazy dog.\", \n",
    "                \"She sells seashells by the seashore.\", \n",
    "                \"Technology is rapidly changing the way we live and work.\", \n",
    "                \"Can you recommend a good restaurant nearby?\", \n",
    "                \"Despite the rain, they decided to go for a hike.\"]\n",
    "\n",
    "de_examples = [\"Die schnelle braune Katze sprang über den hohen Zaun.\", \n",
    "                \"Er spielte den ganzen Tag Videospiele.\", \n",
    "                \"Das neue Museum in der Stadt ist einen Besuch wert.\", \n",
    "                \"Kannst du mir helfen, dieses Problem zu lösen?\", \n",
    "                \"Obwohl sie müde war, arbeitete sie bis spät in die Nacht.\"]"
   ]
  },
  {
   "cell_type": "markdown",
   "metadata": {},
   "source": [
    "### T5 Dome Tab"
   ]
  },
  {
   "cell_type": "code",
   "execution_count": 15,
   "metadata": {},
   "outputs": [],
   "source": [
    "def t5_model_tab():\n",
    "    with gr.Tab(label=\"T5 Model\"):\n",
    "        with gr.Column():\n",
    "            with gr.Accordion(\"Debug Log\", open=True):\n",
    "                debug_log = gr.TextArea(label=\"\", lines=7, max_lines=12)\n",
    "\n",
    "            with gr.Group():\n",
    "                load_t5_btn = gr.Button(\"Load T5 model\")\n",
    "                load_t5_btn.click(fn=model_config.set_t5_model, outputs=[debug_log])\n",
    "\n",
    "            with gr.Group():\n",
    "                with gr.Row():\n",
    "                    seed = gr.Textbox(label=\"English Sequence\", max_lines=2)\n",
    "                    model_id = gr.Textbox(value=\"t5\", visible=False)\n",
    "\n",
    "                with gr.Row():\n",
    "                    output = gr.Textbox(label=\"German Sequence\", max_lines=3)\n",
    "\n",
    "                with gr.Row():\n",
    "                    trns_btn = gr.Button(\"Translate\")\n",
    "                    trns_btn.click(fn=model_config.translate, inputs=[seed, model_id], outputs=[output])\n",
    "                    gr.ClearButton(components=[seed, output, debug_log])\n",
    "\n",
    "            with gr.Accordion(label=\"Examples\", open=True):\n",
    "                gr.Examples(examples=en_examples, inputs=[seed], label=\"English Sequences\")"
   ]
  },
  {
   "cell_type": "markdown",
   "metadata": {},
   "source": [
    "### Custom Model Demo Tab"
   ]
  },
  {
   "cell_type": "code",
   "execution_count": 16,
   "metadata": {},
   "outputs": [],
   "source": [
    "def custom_model_tab():\n",
    "    with gr.Tab(label=\"Custom Model\"):\n",
    "        with gr.Column():\n",
    "            with gr.Accordion(\"Debug Log\", open=True):\n",
    "                debug_log = gr.TextArea(label=\"\", lines=7, max_lines=12)\n",
    "\n",
    "            with gr.Group():\n",
    "                with gr.Row():\n",
    "                    model = gr.File(label=\"Model\", file_types=['.pt'], min_width=200)\n",
    "                    tokenizer = gr.File(label=\"Tokenizer\", file_types=['.json'], min_width=200)\n",
    "\n",
    "                with gr.Row():\n",
    "                    load_custom_btn = gr.Button(\"Load custom model\")\n",
    "                    load_custom_btn.click(fn=model_config.set_custom_model, inputs=[model, tokenizer], outputs=[debug_log])\n",
    "\n",
    "            with gr.Group():\n",
    "                with gr.Row():\n",
    "                    seed = gr.Textbox(label=\"Input Sequence\", max_lines=2)\n",
    "                    model_id = gr.Textbox(value=\"custom\", visible=False)\n",
    "\n",
    "                with gr.Row():\n",
    "                    output = gr.Textbox(label=\"Output Sequence\", max_lines=3)\n",
    "\n",
    "                with gr.Row():\n",
    "                    trns_btn = gr.Button(\"Translate\")\n",
    "                    trns_btn.click(fn=model_config.translate, inputs=[seed, model_id], outputs=[output])\n",
    "                    gr.ClearButton(components=[seed, output, debug_log])\n",
    "\n",
    "            with gr.Accordion(label=\"Examples\", open=True):\n",
    "                gr.Examples(examples=en_examples, inputs=[seed], label=\"English Sequences\")\n",
    "                gr.Examples(examples=de_examples, inputs=[seed], label=\"German Sequences\")"
   ]
  },
  {
   "cell_type": "markdown",
   "metadata": {},
   "source": [
    "### Launch Demo"
   ]
  },
  {
   "cell_type": "code",
   "execution_count": 18,
   "metadata": {},
   "outputs": [
    {
     "name": "stderr",
     "output_type": "stream",
     "text": [
      "2024-06-14 20:02:18,678 | httpx | INFO : HTTP Request: GET http://127.0.0.1:7861/startup-events \"HTTP/1.1 200 OK\"\n",
      "2024-06-14 20:02:18,683 | httpx | INFO : HTTP Request: HEAD http://127.0.0.1:7861/ \"HTTP/1.1 200 OK\"\n"
     ]
    },
    {
     "name": "stdout",
     "output_type": "stream",
     "text": [
      "Running on local URL:  http://127.0.0.1:7861\n",
      "\n",
      "To create a public link, set `share=True` in `launch()`.\n"
     ]
    },
    {
     "data": {
      "text/html": [
       "<div><iframe src=\"http://127.0.0.1:7861/\" width=\"100%\" height=\"500\" allow=\"autoplay; camera; microphone; clipboard-read; clipboard-write;\" frameborder=\"0\" allowfullscreen></iframe></div>"
      ],
      "text/plain": [
       "<IPython.core.display.HTML object>"
      ]
     },
     "metadata": {},
     "output_type": "display_data"
    },
    {
     "name": "stdout",
     "output_type": "stream",
     "text": [
      "Closing server running on port: 7861\n"
     ]
    },
    {
     "name": "stderr",
     "output_type": "stream",
     "text": [
      "2024-06-14 20:02:19,433 | httpx | INFO : HTTP Request: GET https://api.gradio.app/pkg-version \"HTTP/1.1 200 OK\"\n"
     ]
    }
   ],
   "source": [
    "# it is not recommended to launch the demo in this notebook - start the demo through the demo.py -> python3 demo.py\n",
    "with gr.Blocks(theme=theme) as demo:\n",
    "    header = gr.Markdown(\"# KI in den Life Sciences: Machine Translation Demo\")\n",
    "    line1 = gr.Markdown(\"by [Nico Fuchs](https://github.com/nico-byte) and [Matthias Laton](https://github.com/20DragonSlayer01)\")\n",
    "    line2 = gr.Markdown(\"---\")\n",
    "    line3 = gr.Markdown(\"### This demo uses a T5 model to translate English to German. You can also load your own model and tokenizer.\")\n",
    "\n",
    "    t5_model_tab()\n",
    "    custom_model_tab()\n",
    "\n",
    "# Launch the Gradio demo\n",
    "demo.launch()\n",
    "demo.close()"
   ]
  }
 ],
 "metadata": {
  "kernelspec": {
   "display_name": "pytorch",
   "language": "python",
   "name": "python3"
  },
  "language_info": {
   "codemirror_mode": {
    "name": "ipython",
    "version": 3
   },
   "file_extension": ".py",
   "mimetype": "text/x-python",
   "name": "python",
   "nbconvert_exporter": "python",
   "pygments_lexer": "ipython3",
   "version": "3.12.0"
  }
 },
 "nbformat": 4,
 "nbformat_minor": 2
}
