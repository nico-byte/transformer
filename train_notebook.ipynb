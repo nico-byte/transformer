{
 "cells": [
  {
   "cell_type": "code",
   "execution_count": null,
   "metadata": {},
   "outputs": [],
   "source": [
    "import torch\n",
    "from torchinfo import summary\n",
    "\n",
    "import nltk\n",
    "from data import IWSLT2017DataLoader, Multi30kDataLoader\n",
    "from transformer import Seq2SeqTransformer\n",
    "from trainer import Trainer, EarlyStopper\n",
    "from config import SharedStore, TokenizerConfig, DataLoaderConfig, TransformerConfig, TrainerConfig\n",
    "\n",
    "nltk.download('wordnet', download_dir='./.nltk')\n",
    "\n",
    "DEVICE = torch.device('cuda' if torch.cuda.is_available() else 'cpu')"
   ]
  },
  {
   "cell_type": "code",
   "execution_count": null,
   "metadata": {},
   "outputs": [],
   "source": [
    "tkn_conf = TokenizerConfig()\n",
    "\n",
    "\n",
    "shared_store = SharedStore(\n",
    "      token_transform={\n",
    "            tkn_conf.src_language: tkn_conf.src_tokenizer,\n",
    "            tkn_conf.tgt_language: tkn_conf.tgt_tokenizer\n",
    "      }\n",
    ")\n",
    "\n",
    "dl_conf = DataLoaderConfig(\n",
    "      dataset=\"iwslt2017\",\n",
    "      batch_size=32,\n",
    "      num_workers=4,\n",
    "      pin_memory=True,\n",
    "      drop_last=False,\n",
    "      shuffle=True,\n",
    ")\n",
    "\n",
    "if dl_conf.dataset == \"iwslt2017\":\n",
    "    dataloader = IWSLT2017DataLoader(dl_conf, tkn_conf, shared_store)\n",
    "else:\n",
    "      dataloader = Multi30kDataLoader(dl_conf, tkn_conf, shared_store)\n",
    "\n",
    "SRC_VOCAB_SIZE = len(shared_store.vocab_transform[tkn_conf.src_language])\n",
    "TGT_VOCAB_SIZE = len(shared_store.vocab_transform[tkn_conf.tgt_language])"
   ]
  },
  {
   "cell_type": "code",
   "execution_count": null,
   "metadata": {},
   "outputs": [],
   "source": [
    "model_conf = TransformerConfig(\n",
    "      num_encoder_layers=6,\n",
    "      num_decoder_layers=6,\n",
    "      emb_size=512,\n",
    "      nhead=16,\n",
    "      src_vocab_size=SRC_VOCAB_SIZE,\n",
    "      tgt_vocab_size=TGT_VOCAB_SIZE,\n",
    "      dim_feedforward=512,\n",
    "      dropout=0.1,\n",
    "      shared_store=shared_store\n",
    ")\n",
    "\n",
    "transformer = Seq2SeqTransformer(model_conf, shared_store).to(DEVICE)\n",
    "\n",
    "trainer_conf = TrainerConfig(\n",
    "      learning_rate=0.0001,\n",
    "      num_epochs=200,\n",
    "      batch_size=shared_store.dataloaders[0].batch_size,\n",
    "      tgt_batch_size=1024,\n",
    "      num_cycles=6,\n",
    "      device=DEVICE\n",
    ")\n",
    "\n",
    "summary(transformer, [(1, dl_conf.batch_size), (1, dl_conf.batch_size)])"
   ]
  },
  {
   "cell_type": "code",
   "execution_count": null,
   "metadata": {},
   "outputs": [],
   "source": [
    "print(f'Hyperparameters:\\n'\n",
    "      f'SRC_VOCAB_SIZE: {SRC_VOCAB_SIZE}\\n'\n",
    "      f'TGT_VOCAB_SIZE = {TGT_VOCAB_SIZE}\\n'\n",
    "      f'EMB_SIZE: {model_conf.emb_size}\\n'\n",
    "      f'NHEAD: {model_conf.nhead}\\n'\n",
    "      f'NUM_ENCODER_LAYERS: {model_conf.num_encoder_layers}\\n'\n",
    "      f'NUM_DECODER_LAYERS: {model_conf.num_decoder_layers}\\n'\n",
    "      f'FFN_HID_DIM: {model_conf.dim_feedforward}\\n'\n",
    "      f'DROPOUT: {model_conf.dropout}\\n'\n",
    "      f'DEVICE: {DEVICE}\\n')"
   ]
  },
  {
   "cell_type": "code",
   "execution_count": null,
   "metadata": {},
   "outputs": [],
   "source": [
    "early_stopper = EarlyStopper(patience=3, min_delta=0.03)\n",
    "\n",
    "trainer = Trainer(transformer, early_stopper, trainer_conf, shared_store)\n",
    "\n",
    "trainer.train()\n",
    "print(f'\\nEvaluation: meteor_score  - {trainer.evaluate(tgt_language=tkn_conf.tgt_language)}')\n",
    "\n",
    "TEST_SEQUENCE = \"Ein Mann mit blonden Haar hat ein Haus aus Steinen gebaut .\"\n",
    "\n",
    "print(f'Input: {TEST_SEQUENCE}, Output: {transformer.translate(TEST_SEQUENCE, src_language=tkn_conf.src_language, tgt_language=tkn_conf.tgt_language)}')"
   ]
  }
 ],
 "metadata": {
  "kernelspec": {
   "display_name": "pytorch",
   "language": "python",
   "name": "python3"
  },
  "language_info": {
   "codemirror_mode": {
    "name": "ipython",
    "version": 3
   },
   "file_extension": ".py",
   "mimetype": "text/x-python",
   "name": "python",
   "nbconvert_exporter": "python",
   "pygments_lexer": "ipython3",
   "version": "3.10.13"
  }
 },
 "nbformat": 4,
 "nbformat_minor": 2
}
